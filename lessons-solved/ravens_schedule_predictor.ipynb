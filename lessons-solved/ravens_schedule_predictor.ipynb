{
  "cells": [
    {
      "cell_type": "markdown",
      "metadata": {
        "id": "view-in-github",
        "colab_type": "text"
      },
      "source": [
        "<a href=\"https://colab.research.google.com/github/gpmoran-16/BME3053C-Fall-2025/blob/main/lessons-solved/ravens_schedule_predictor.ipynb\" target=\"_parent\"><img src=\"https://colab.research.google.com/assets/colab-badge.svg\" alt=\"Open In Colab\"/></a>"
      ]
    },
    {
      "cell_type": "code",
      "execution_count": 76,
      "id": "33be82e7",
      "metadata": {
        "id": "33be82e7",
        "outputId": "d83a6bee-e8f1-4def-a696-8662da0105ff",
        "colab": {
          "base_uri": "https://localhost:8080/"
        }
      },
      "outputs": [
        {
          "output_type": "stream",
          "name": "stdout",
          "text": [
            "Enter a year OR a team name: 2026\n",
            "Home: ['Titans', 'Jaguars', 'Saints', 'Buccaneers']\n",
            "Away: ['Texans', 'Colts', 'Falcons', 'Panthers', 'East (NFC)']\n",
            "Same-place finisher AFC divisions: ['West', 'East']\n"
          ]
        }
      ],
      "source": [
        "def get_ravens_out_of_division_games():\n",
        "    # --- AFC North rotation ---\n",
        "    afc_rotations = [\"West\", \"East\", \"South\"]\n",
        "    afc_teams = {\n",
        "        \"West\": [\"Raiders\",\"Broncos\", \"Chargers\",\"Chiefs\"],\n",
        "        \"East\": [\"Patriots\",\"Jets\", \"Dolphins\",\"Bills\"],\n",
        "        \"South\": [\"Titans\",\"Jaguars\", \"Texans\",\"Colts\"]\n",
        "    }\n",
        "\n",
        "    # --- NFC rotation ---\n",
        "    nfc_rotations = [\"North\", \"South\", \"West\", \"East\"]\n",
        "    nfc_teams = {\n",
        "        \"North\": [\"Bears\",\"Lions\", \"Packers\", \"Vikings\"],\n",
        "        \"South\": [\"Saints\", \"Buccaneers\",\"Falcons\", \"Panthers\"],\n",
        "        \"West\": [\"49ers\", \"Cardinals\",\"Seahawks\", \"Rams\"],\n",
        "        \"East\": [\"Cowboys\", \"Giants\", \"Eagles\", \"Commanders\"]\n",
        "    }\n",
        "\n",
        "    # --- 17th interconference game rotation ---\n",
        "    interconf_rotations = [\"West\", \"East\", \"North\", \"South\"]\n",
        "\n",
        "    # --- First input ---\n",
        "    first_input = input(\"Enter a year OR a team name: \").strip()\n",
        "\n",
        "    # --- Helper function to generate schedule for a given year ---\n",
        "    def generate_schedule(y):\n",
        "        nfc_idx = (y - 2021) % 4\n",
        "        nfc_div = nfc_rotations[nfc_idx]\n",
        "\n",
        "        afc_idx = (y - 2021) % 3\n",
        "        afc_div = afc_rotations[afc_idx]\n",
        "\n",
        "        afc_cycle = (y - 2021) // 3\n",
        "        nfc_cycle = (y - 2021) // 4\n",
        "\n",
        "        away_n = [nfc_teams[nfc_div][0], nfc_teams[nfc_div][1]]\n",
        "        home_n = [nfc_teams[nfc_div][2], nfc_teams[nfc_div][3]]\n",
        "        away_a = [afc_teams[afc_div][0], afc_teams[afc_div][1]]\n",
        "        home_a = [afc_teams[afc_div][2], afc_teams[afc_div][3]]\n",
        "\n",
        "        # Flip home/away after a full rotation\n",
        "        if nfc_cycle % 2 == 1:\n",
        "            home_n, away_n = away_n, home_n\n",
        "        if afc_cycle % 2 == 1:\n",
        "            home_a, away_a = away_a, home_a\n",
        "\n",
        "        home_games = home_a + home_n\n",
        "        away_games = away_a + away_n\n",
        "\n",
        "        # Interconference game\n",
        "        interconf_idx = (y - 2021) % 4\n",
        "        interconf_div = interconf_rotations[interconf_idx]\n",
        "        interconf_loc = \"Home\" if y % 2 == 1 else \"Away\"\n",
        "        interconf_team = interconf_div + \" (NFC)\"\n",
        "        if interconf_loc == \"Home\":\n",
        "            home_games.append(interconf_team)\n",
        "        else:\n",
        "            away_games.append(interconf_team)\n",
        "\n",
        "        afc_same_place = [div for div in afc_rotations if div != afc_rotations[(y - 2021) % 3]]\n",
        "\n",
        "        return home_games, away_games, afc_same_place, interconf_div, interconf_loc\n",
        "\n",
        "    # --- Check if first input is a year (integer) ---\n",
        "    if first_input.isdigit():\n",
        "        year = int(first_input)\n",
        "        home_games, away_games, afc_same_place, interconf_div, interconf_loc = generate_schedule(year)\n",
        "        print(\"Home:\", home_games)\n",
        "        print(\"Away:\", away_games)\n",
        "        print(\"Same-place finisher AFC divisions:\", afc_same_place)\n",
        "\n",
        "    else:\n",
        "        # Treat input as a team name\n",
        "        team = first_input\n",
        "        loc = input(\"Home or Away? \").strip().capitalize()\n",
        "        if loc not in [\"Home\", \"Away\"]:\n",
        "            print(\"Invalid location! Must be 'Home' or 'Away'.\")\n",
        "            return\n",
        "\n",
        "        print(f\"\\nNext 5 years {team} appears at {loc}:\")\n",
        "        found = 0\n",
        "        year = 2021  # start from 2021 by default\n",
        "        while found < 5:\n",
        "            home_games, away_games, _, _, _ = generate_schedule(year)\n",
        "            if (loc == \"Home\" and team in home_games) or (loc == \"Away\" and team in away_games):\n",
        "                print(year)\n",
        "                found += 1\n",
        "            year += 1\n",
        "\n",
        "get_ravens_out_of_division_games()"
      ]
    }
  ],
  "metadata": {
    "kernelspec": {
      "display_name": ".venv",
      "language": "python",
      "name": "python3"
    },
    "language_info": {
      "codemirror_mode": {
        "name": "ipython",
        "version": 3
      },
      "file_extension": ".py",
      "mimetype": "text/x-python",
      "name": "python",
      "nbconvert_exporter": "python",
      "pygments_lexer": "ipython3",
      "version": "3.12.7"
    },
    "name": "BME3053C-midterm-study-guide-alternate",
    "colab": {
      "provenance": [],
      "include_colab_link": true
    }
  },
  "nbformat": 4,
  "nbformat_minor": 5
}