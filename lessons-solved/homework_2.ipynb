{
  "cells": [
    {
      "cell_type": "markdown",
      "metadata": {
        "id": "view-in-github",
        "colab_type": "text"
      },
      "source": [
        "<a href=\"https://colab.research.google.com/github/gpmoran-16/BME3053C-Fall-2025/blob/main/lessons-solved/homework_2.ipynb\" target=\"_parent\"><img src=\"https://colab.research.google.com/assets/colab-badge.svg\" alt=\"Open In Colab\"/></a>"
      ]
    },
    {
      "cell_type": "code",
      "execution_count": 5,
      "id": "33be82e7",
      "metadata": {
        "id": "33be82e7",
        "outputId": "4620fcdc-84fd-429c-e3e7-309a48bc9788",
        "colab": {
          "base_uri": "https://localhost:8080/"
        }
      },
      "outputs": [
        {
          "output_type": "execute_result",
          "data": {
            "text/plain": [
              "[0.0,\n",
              " 0.32075471698113206,\n",
              " 0.5849056603773585,\n",
              " 0.05660377358490566,\n",
              " 0.7924528301886793,\n",
              " 1.0,\n",
              " 0.1320754716981132,\n",
              " 0.6415094339622641]"
            ]
          },
          "metadata": {},
          "execution_count": 5
        }
      ],
      "source": [
        "bp_readings = [120, 137, 151, 123, 162, 173, 127, 154]\n",
        "def mmhg_conversion(bp_readings):\n",
        "  min_value = min(bp_readings)\n",
        "  max_value = max(bp_readings)\n",
        "  normalized_list = []\n",
        "  for i in bp_readings:\n",
        "    normalized_value = (i-min_value)/(max_value-min_value)\n",
        "    normalized_list.append(normalized_value)\n",
        "  return normalized_list\n",
        "mmhg_conversion(bp_readings)\n"
      ]
    }
  ],
  "metadata": {
    "kernelspec": {
      "display_name": ".venv",
      "language": "python",
      "name": "python3"
    },
    "language_info": {
      "codemirror_mode": {
        "name": "ipython",
        "version": 3
      },
      "file_extension": ".py",
      "mimetype": "text/x-python",
      "name": "python",
      "nbconvert_exporter": "python",
      "pygments_lexer": "ipython3",
      "version": "3.12.7"
    },
    "name": "BME3053C-midterm-study-guide-alternate",
    "colab": {
      "provenance": [],
      "include_colab_link": true
    }
  },
  "nbformat": 4,
  "nbformat_minor": 5
}